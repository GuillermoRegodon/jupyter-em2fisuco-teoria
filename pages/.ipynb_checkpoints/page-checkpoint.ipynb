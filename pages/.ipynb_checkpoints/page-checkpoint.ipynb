{
 "cells": [
  {
   "cell_type": "markdown",
   "id": "eb72ec9f-6023-4983-89d3-b34c455a0028",
   "metadata": {},
   "source": [
    "# Condiciones de frontera\n",
    "\n",
    "**En la descripción macro** entre dos medios materiales, *podemos calcular la relación entre las componentes del campo electromagnético a los dos lados de la frontera*. Para ello, **utilizamos convenientemente las leyes de Maxwell en forma integral**.\n",
    "\n",
    "* Las leyes de **divergencia** nos permiten conectar **las componentes normales**.\n",
    "* Las leyes de **rotacional** nos permiten conectar **las componentes tangenciales**.\n",
    "\n",
    "Veamos el procedimiento para las leyes de divergencia: para ello elegimos una superficie pequeña que tiene dos caras paralelas de área $A$ a la frontera entre los dos medios, mientras que la cara lateral se puede hacer infinitamente pequeña, $h \\rightarrow 0$.\n",
    "\n",
    "```{figure} ../images/frontera_1.png\n",
    ":alt: frontera_1.png\n",
    ":width: 320px\n",
    "Superficie conveniente para deducir condiciones de frontera.\n",
    "```"
   ]
  },
  {
   "cell_type": "code",
   "execution_count": null,
   "id": "61e54aae-5d69-4363-b229-9a9356162bde",
   "metadata": {},
   "outputs": [],
   "source": []
  }
 ],
 "metadata": {
  "kernelspec": {
   "display_name": "Python 3 (ipykernel)",
   "language": "python",
   "name": "python3"
  },
  "language_info": {
   "codemirror_mode": {
    "name": "ipython",
    "version": 3
   },
   "file_extension": ".py",
   "mimetype": "text/x-python",
   "name": "python",
   "nbconvert_exporter": "python",
   "pygments_lexer": "ipython3",
   "version": "3.12.4"
  }
 },
 "nbformat": 4,
 "nbformat_minor": 5
}
